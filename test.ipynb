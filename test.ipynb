{
 "cells": [
  {
   "cell_type": "code",
   "execution_count": 5,
   "metadata": {},
   "outputs": [
    {
     "name": "stdout",
     "output_type": "stream",
     "text": [
      "Error: 500\n"
     ]
    }
   ],
   "source": [
    "get_products(\"free_delivery\")"
   ]
  },
  {
   "cell_type": "code",
   "execution_count": 3,
   "metadata": {},
   "outputs": [
    {
     "data": {
      "text/plain": [
       "{'result': [{'categoryDetails': {'_key': 'best_seller',\n",
       "    'categoryName': 'Best Sellers',\n",
       "    'categoryPicture': 'http://127.0.0.1:5000/static/images/tech.jpeg'},\n",
       "   'productDetails': {'_key': 'prod_456',\n",
       "    'productCategoryId': ['best_seller', 'free_delivery'],\n",
       "    'productDescription': 'A high-quality smartphone with advanced features.',\n",
       "    'productName': 'Smartphone Z',\n",
       "    'productPicture': 'http://127.0.0.1:5000/static/images/iphone11promax.png',\n",
       "    'reviews': [{'comment': 'Great phone!', 'userId': 'user_789'}],\n",
       "    'variations': [{'availabilityQuantity': 10,\n",
       "      'discountPrice': 0.0,\n",
       "      'offerPrice': 999.0,\n",
       "      'quantity': 1,\n",
       "      'sellingPrice': 1099.0}]}},\n",
       "  {'categoryDetails': {'_key': 'best_seller',\n",
       "    'categoryName': 'Best Sellers',\n",
       "    'categoryPicture': 'http://127.0.0.1:5000/static/images/tech.jpeg'},\n",
       "   'productDetails': {'_key': 'prod_1',\n",
       "    'productCategoryId': ['best_seller'],\n",
       "    'productDescription': 'Hehe',\n",
       "    'productName': 'Lover',\n",
       "    'productPicture': 'http://127.0.0.1:5000/static/images/lover.png',\n",
       "    'reviews': [{'comment': 'Great girl!', 'userId': 'user_789'}],\n",
       "    'variations': [{'availabilityQuantity': 10,\n",
       "      'discountPrice': 0.0,\n",
       "      'offerPrice': 999.0,\n",
       "      'quantity': 1,\n",
       "      'sellingPrice': 1099.0}]}}]}"
      ]
     },
     "execution_count": 3,
     "metadata": {},
     "output_type": "execute_result"
    }
   ],
   "source": [
    "import requests\n",
    "\n",
    "def get_products(category):\n",
    "    url = \"http://127.0.0.1:5000/products/get-all-products\"  # Replace with your actual URL\n",
    "    params = {\"category\": category}\n",
    "    response = requests.get(url, params=params)\n",
    "\n",
    "    if response.status_code == 200:\n",
    "        return response.json()\n",
    "    else:\n",
    "        # Handle errors based on response status code\n",
    "        print(f\"Error: {response.status_code}\")\n",
    "        return None\n",
    "result = get_products(\"best_seller\")\n",
    "result"
   ]
  },
  {
   "cell_type": "code",
   "execution_count": null,
   "metadata": {},
   "outputs": [],
   "source": [
    "{'result': [{\n",
    "    'categoryDetails': {\n",
    "        '_key': 'free_delivery',\n",
    "        'categoryName': 'Free Delivery',\n",
    "        'categoryPicture': 'http://127.0.0.1:5000/static/images/tech.jpeg'\n",
    "    },\n",
    "        'productDetails': {\n",
    "            '_key': 'prod_456',\n",
    "            'productDescription': 'A high-quality smartphone with advanced features.',\n",
    "            'productName': 'Smartphone Z',\n",
    "            'productPicture': 'http://127.0.0.1:5000/static/images/iphone11promax.png',\n",
    "            'reviews': [\n",
    "                    {\n",
    "                    'comment': 'Great phone!', 'userId': 'user_789'\n",
    "                    }\n",
    "                ],\n",
    "            'variations': [\n",
    "                    {'availabilityQuantity': 10,\n",
    "                    'discountPrice': 0.0,\n",
    "                    'offerPrice': 999.0,\n",
    "                    'quantity': 1,\n",
    "                    'sellingPrice': 1099.0\n",
    "                    }\n",
    "                ]\n",
    "            }\n",
    "        }\n",
    "    ]\n",
    " }"
   ]
  }
 ],
 "metadata": {
  "kernelspec": {
   "display_name": "Python 3",
   "language": "python",
   "name": "python3"
  },
  "language_info": {
   "codemirror_mode": {
    "name": "ipython",
    "version": 3
   },
   "file_extension": ".py",
   "mimetype": "text/x-python",
   "name": "python",
   "nbconvert_exporter": "python",
   "pygments_lexer": "ipython3",
   "version": "3.11.3"
  }
 },
 "nbformat": 4,
 "nbformat_minor": 2
}
