{
 "cells": [
  {
   "cell_type": "code",
   "execution_count": 10,
   "metadata": {},
   "outputs": [
    {
     "data": {
      "text/plain": [
       "'<!doctype html>\\n<html lang=en>\\n<title>500 Internal Server Error</title>\\n<h1>Internal Server Error</h1>\\n<p>The server encountered an internal error and was unable to complete your request. Either the server is overloaded or there is an error in the application.</p>\\n'"
      ]
     },
     "execution_count": 10,
     "metadata": {},
     "output_type": "execute_result"
    }
   ],
   "source": [
    "import requests\n",
    "\n",
    "baseURL = 'https://nguyenduchuy.pythonanywhere.com'\n",
    "def get_products(category):\n",
    "    url = f\"{baseURL}/products/get-all-products\".format(baseURL)  \n",
    "    params = {\"category\": category}\n",
    "    response = requests.get(url, params=params)\n",
    "\n",
    "    return response.text\n",
    "result = get_products(\"best_seller\")\n",
    "result"
   ]
  },
  {
   "cell_type": "code",
   "execution_count": null,
   "metadata": {},
   "outputs": [],
   "source": [
    "import requests\n",
    "\n",
    "baseURL = 'https://nguyenduchuy.pythonanywhere.com'\n",
    "def get_products(category):\n",
    "    url = f\"{baseURL}/products/get-all-products\".format(baseURL)  \n",
    "    params = {\"category\": category}\n",
    "    response = requests.get(url, params=params)\n",
    "\n",
    "    return response.text\n",
    "result = get_products({})\n",
    "result"
   ]
  },
  {
   "cell_type": "code",
   "execution_count": 8,
   "metadata": {},
   "outputs": [
    {
     "data": {
      "text/plain": [
       "'hello world'"
      ]
     },
     "execution_count": 8,
     "metadata": {},
     "output_type": "execute_result"
    }
   ],
   "source": []
  },
  {
   "cell_type": "code",
   "execution_count": 5,
   "metadata": {},
   "outputs": [
    {
     "data": {
      "text/plain": [
       "{'result': [{'categoryDetails': {'_key': 'best_seller',\n",
       "    'categoryName': 'Best Sellers',\n",
       "    'categoryPicture': 'http://127.0.0.1:5000/static/images/tech.jpeg'},\n",
       "   'productDetails': {'_key': 'prod_456',\n",
       "    'productCategoryId': ['best_seller', 'free_delivery'],\n",
       "    'productDescription': 'A high-quality smartphone with advanced features.',\n",
       "    'productName': 'Smartphone Z',\n",
       "    'productPicture': 'http://127.0.0.1:5000/static/images/iphone11promax.png',\n",
       "    'reviews': [{'comment': 'Great phone!', 'userId': 'user_789'}],\n",
       "    'variations': [{'availabilityQuantity': 10,\n",
       "      'discountPrice': 0.0,\n",
       "      'offerPrice': 999.0,\n",
       "      'quantity': 1,\n",
       "      'sellingPrice': 1099.0}]}},\n",
       "  {'categoryDetails': {'_key': 'free_delivery',\n",
       "    'categoryName': 'Free Delivery',\n",
       "    'categoryPicture': 'http://127.0.0.1:5000/static/images/tech.jpeg'},\n",
       "   'productDetails': {'_key': 'prod_456',\n",
       "    'productCategoryId': ['best_seller', 'free_delivery'],\n",
       "    'productDescription': 'A high-quality smartphone with advanced features.',\n",
       "    'productName': 'Smartphone Z',\n",
       "    'productPicture': 'http://127.0.0.1:5000/static/images/iphone11promax.png',\n",
       "    'reviews': [{'comment': 'Great phone!', 'userId': 'user_789'}],\n",
       "    'variations': [{'availabilityQuantity': 10,\n",
       "      'discountPrice': 0.0,\n",
       "      'offerPrice': 999.0,\n",
       "      'quantity': 1,\n",
       "      'sellingPrice': 1099.0}]}}]}"
      ]
     },
     "execution_count": 5,
     "metadata": {},
     "output_type": "execute_result"
    }
   ],
   "source": [
    "import requests\n",
    "\n",
    "def search_products(category):\n",
    "    url = \"http://127.0.0.1:5000/products/search-product\"  # Replace with your actual URL\n",
    "    params = {\"searchTerm\": category}\n",
    "    response = requests.get(url, params=params)\n",
    "\n",
    "    if response.status_code == 200:\n",
    "        return response.json()\n",
    "    else:\n",
    "        # Handle errors based on response status code\n",
    "        print(f\"Error: {response.status_code}\")\n",
    "        return None\n",
    "result = search_products(\"phone\")\n",
    "result"
   ]
  },
  {
   "cell_type": "code",
   "execution_count": null,
   "metadata": {},
   "outputs": [],
   "source": [
    "{'result': [{\n",
    "    'categoryDetails': {\n",
    "        '_key': 'free_delivery',\n",
    "        'categoryName': 'Free Delivery',\n",
    "        'categoryPicture': 'http://127.0.0.1:5000/static/images/tech.jpeg'\n",
    "    },\n",
    "        'productDetails': {\n",
    "            '_key': 'prod_456',\n",
    "            'productDescription': 'A high-quality smartphone with advanced features.',\n",
    "            'productName': 'Smartphone Z',\n",
    "            'productPicture': 'http://127.0.0.1:5000/static/images/iphone11promax.png',\n",
    "            'reviews': [\n",
    "                    {\n",
    "                    'comment': 'Great phone!', 'userId': 'user_789'\n",
    "                    }\n",
    "                ],\n",
    "            'variations': [\n",
    "                    {'availabilityQuantity': 10,\n",
    "                    'discountPrice': 0.0,\n",
    "                    'offerPrice': 999.0,\n",
    "                    'quantity': 1,\n",
    "                    'sellingPrice': 1099.0\n",
    "                    }\n",
    "                ]\n",
    "            }\n",
    "        }\n",
    "    ]\n",
    " }"
   ]
  },
  {
   "cell_type": "code",
   "execution_count": 19,
   "metadata": {},
   "outputs": [
    {
     "name": "stdout",
     "output_type": "stream",
     "text": [
      "[{'userId': 'user_789', 'comment': 'Great phone!'}]\n"
     ]
    }
   ],
   "source": [
    "import sqlite3\n",
    "from flask import jsonify\n",
    "import threading\n",
    "import json\n",
    "\n",
    "# Thread-local storage for database connections\n",
    "thread_local = threading.local()\n",
    "\n",
    "def get_db_connection(path='backend/assets/database/database.db'):\n",
    "    if not hasattr(thread_local, 'db_conn'):\n",
    "        thread_local.db_conn = sqlite3.connect(path)\n",
    "    return thread_local.db_conn\n",
    "   \n",
    "\n",
    "def get_product_from_key(key):  \n",
    "    '''\n",
    "    Function to get all information of products by arbitrary key.\n",
    "    '''\n",
    "    # Connect to DB\n",
    "    connection = get_db_connection()\n",
    "    cursor = connection.cursor()\n",
    "\n",
    "    # Set key to search\n",
    "    key_name = 'p' # Default querying by product key\n",
    "    if key['type'] == 'category':\n",
    "        key_name = 'c'\n",
    "        \n",
    "    # Query to get category details (use JOIN for efficiency)\n",
    "    query = \"\"\"\n",
    "        SELECT p._key, p.productName, p.productDescription, p.productPicture\n",
    "        FROM categories c\n",
    "        INNER JOIN product_categories pc ON c._key = pc.category_key\n",
    "        INNER JOIN products p ON pc.product_key = p._key\n",
    "        WHERE {key_name}._key = ? \"\"\".format(key_name=key_name)\n",
    "    \n",
    "    cursor.execute(query, (key['key'],))\n",
    "\n",
    "    results = []\n",
    "    for row in cursor.fetchall():\n",
    "        \n",
    "        product_data = {\n",
    "            \"_key\": row[0],\n",
    "            \"productName\": row[1],\n",
    "            \"productDescription\": row[2],\n",
    "            \"productPicture\": row[3],\n",
    "            \"reviews\": [],\n",
    "            \"variations\": []\n",
    "        }\n",
    "        \n",
    "        # Query to get list of category that product belongs to\n",
    "        query = \"\"\"\n",
    "            SELECT c._key, c.categoryName, c.categoryPicture\n",
    "            FROM product_categories pc\n",
    "            INNER JOIN categories c ON pc.category_key = c._key\n",
    "            WHERE pc.product_key = ?\n",
    "        \"\"\"\n",
    "        cursor.execute(query, (product_data['_key'],))\n",
    "        category_data = [\n",
    "            {\n",
    "                \"_key\": row[0],\n",
    "                \"categoryName\": row[1],\n",
    "                \"categoryPicture\": row[2],\n",
    "            }\n",
    "            for row in cursor.fetchall()\n",
    "        ]\n",
    "\n",
    "        # Query to get reviews (using product_data[\"_key\"] directly)\n",
    "        cursor.execute(\"SELECT userId, comment FROM Reviews WHERE productKey=?\", (product_data[\"_key\"],))\n",
    "        for review in cursor.fetchall():\n",
    "            product_data[\"reviews\"].append({\n",
    "                \"userId\": review[0],\n",
    "                \"comment\": review[1]\n",
    "            })\n",
    "\n",
    "        # Query to get variations (using product_data[\"_key\"] directly)\n",
    "        cursor.execute(\"SELECT availabilityQuantity, discountPrice, offerPrice, quantity, sellingPrice FROM Variations WHERE productKey=?\", (product_data[\"_key\"],))\n",
    "        for variation in cursor.fetchall():\n",
    "            product_data[\"variations\"].append({\n",
    "                \"availabilityQuantity\": variation[0],\n",
    "                \"discountPrice\": variation[1],\n",
    "                \"offerPrice\": variation[2],\n",
    "                \"quantity\": variation[3],\n",
    "                \"sellingPrice\": variation[4]\n",
    "            })\n",
    "\n",
    "        results.append({\n",
    "            \"categoryDetails\": category_data,\n",
    "            \"productDetails\": product_data\n",
    "        })\n",
    "\n",
    "    # Close connection\n",
    "    connection.close()\n",
    "\n",
    "    return results\n",
    "\n",
    "huy = get_product_from_key({'type' : 'category',\n",
    "                      'key': 'best_seller'})\n",
    "# huy.get('result')\n",
    "for i in huy:\n",
    "    print(i['productDetails']['reviews'])\n",
    "    break"
   ]
  },
  {
   "cell_type": "code",
   "execution_count": null,
   "metadata": {},
   "outputs": [],
   "source": [
    "[{\n",
    "'categoryDetails': [\n",
    "    {'_key': 'best_seller',\n",
    "    'categoryName': 'Best Sellers',\n",
    "    'categoryPicture': 'http://127.0.0.1:5000/static/images/tech.jpeg'},\n",
    "   {'_key': 'free_delivery',\n",
    "    'categoryName': 'Free Delivery',\n",
    "    'categoryPicture': 'http://127.0.0.1:5000/static/images/tech.jpeg'}\n",
    "   ],\n",
    "'productDetails': {\n",
    "      '_key': 'prod_456',\n",
    "    'productName': 'Smartphone Z',\n",
    "    'productDescription': 'A high-quality smartphone with advanced features.',\n",
    "    'productPicture': 'http://127.0.0.1:5000/static/images/iphone11promax.png',\n",
    "    'reviews': [\n",
    "        {'userId': 'user_789', 'comment': 'Great phone!'}\n",
    "    ],\n",
    "    'variations': [\n",
    "        {'availabilityQuantity': 10,\n",
    "        'discountPrice': 0.0,\n",
    "        'offerPrice': 999.0,\n",
    "        'quantity': 1,\n",
    "        'sellingPrice': 1099.0}\n",
    "    ]\n",
    "}\n",
    "},\n",
    " {'categoryDetails': \n",
    "     [{'_key': 'best_seller',\n",
    "    'categoryName': 'Best Sellers',\n",
    "    'categoryPicture': 'http://127.0.0.1:5000/static/images/tech.jpeg'},\n",
    "   {'_key': 'free_delivery',\n",
    "    'categoryName': 'Free Delivery',\n",
    "    'categoryPicture': 'http://127.0.0.1:5000/static/images/tech.jpeg'}\n",
    "   ],\n",
    "  'productDetails': {'_key': 'prod_001',\n",
    "   'productName': 'Samsung Galaxy Z Flip',\n",
    "   'productDescription': 'A flagship foldable smartphone from Samsung.',\n",
    "   'productPicture': 'https://cdn0.vox-cdn.com/hermano/verge/product/image/9662/dseifert-4711-samsung-z-flip-3-noWM-3.jpg',\n",
    "   'reviews': [{'userId': 'nyuhe.li', 'comment': 'Great phone!'}],\n",
    "   'variations': [{'availabilityQuantity': 10,\n",
    "     'discountPrice': 0.0,\n",
    "     'offerPrice': 999.0,\n",
    "     'quantity': 1,\n",
    "     'sellingPrice': 1099.0}]}},\n",
    " {'categoryDetails': [{'_key': 'best_seller',\n",
    "    'categoryName': 'Best Sellers',\n",
    "    'categoryPicture': 'http://127.0.0.1:5000/static/images/tech.jpeg'},\n",
    "   {'_key': 'free_delivery',\n",
    "    'categoryName': 'Free Delivery',\n",
    "    'categoryPicture': 'http://127.0.0.1:5000/static/images/tech.jpeg'}],\n",
    "  'productDetails': {'_key': 'prod_002',\n",
    "   'productName': 'Smartphone X',\n",
    "   'productDescription': 'A revolutionary new smartphone with cutting-edge technology.',\n",
    "   'productPicture': 'https://i0.wp.com/immrfabulous.com/wp-content/uploads/2020/03/img_9077-scaled.jpg?fit=1200,1162',\n",
    "   'reviews': [{'userId': 'nyuhe.li', 'comment': 'Great phone!'}],\n",
    "   'variations': [{'availabilityQuantity': 10,\n",
    "     'discountPrice': 0.0,\n",
    "     'offerPrice': 999.0,\n",
    "     'quantity': 1,\n",
    "     'sellingPrice': 1099.0}]}},\n",
    " {'categoryDetails': [{'_key': 'best_seller',\n",
    "    'categoryName': 'Best Sellers',\n",
    "    'categoryPicture': 'http://127.0.0.1:5000/static/images/tech.jpeg'},\n",
    "   {'_key': 'free_delivery',\n",
    "    'categoryName': 'Free Delivery',\n",
    "    'categoryPicture': 'http://127.0.0.1:5000/static/images/tech.jpeg'}],\n",
    "  'productDetails': {'_key': 'prod_003',\n",
    "   'productName': 'Smartphone Y',\n",
    "   'productDescription': 'An innovative smartphone with an immersive display.',\n",
    "   'productPicture': 'https://cdn0.vox-cdn.com/hermano/verge/product/image/9662/dseifert-4711-samsung-z-flip-3-noWM-3.jpg',\n",
    "   'reviews': [{'userId': 'nyuhe.li', 'comment': 'Great phone!'}],\n",
    "   'variations': [{'availabilityQuantity': 10,\n",
    "     'discountPrice': 0.0,\n",
    "     'offerPrice': 999.0,\n",
    "     'quantity': 1,\n",
    "     'sellingPrice': 1099.0}]}},\n",
    " {'categoryDetails': [{'_key': 'best_seller',\n",
    "    'categoryName': 'Best Sellers',\n",
    "    'categoryPicture': 'http://127.0.0.1:5000/static/images/tech.jpeg'},\n",
    "   {'_key': 'free_delivery',\n",
    "    'categoryName': 'Free Delivery',\n",
    "    'categoryPicture': 'http://127.0.0.1:5000/static/images/tech.jpeg'}],\n",
    "  'productDetails': {'_key': 'prod_004',\n",
    "   'productName': 'Smartphone Z Pro',\n",
    "   'productDescription': 'The ultimate smartphone experience with unparalleled performance.',\n",
    "   'productPicture': 'https://cdn0.vox-cdn.com/hermano/verge/product/image/9662/dseifert-4711-samsung-z-flip-3-noWM-3.jpg',\n",
    "   'reviews': [{'userId': 'nyuhe.li', 'comment': 'Great phone!'}],\n",
    "   'variations': [{'availabilityQuantity': 10,\n",
    "     'discountPrice': 0.0,\n",
    "     'offerPrice': 999.0,\n",
    "     'quantity': 1,\n",
    "     'sellingPrice': 1099.0}]}}]"
   ]
  },
  {
   "cell_type": "code",
   "execution_count": 29,
   "metadata": {},
   "outputs": [
    {
     "data": {
      "text/plain": [
       "'phonez'"
      ]
     },
     "execution_count": 29,
     "metadata": {},
     "output_type": "execute_result"
    }
   ],
   "source": [
    "term = 'smart pHone        Z'\n",
    "term = term.replace(\" \", \"\").lower()\n",
    "len(term[:int(len(term)/2)])\n",
    "term[len(term)/2:]"
   ]
  },
  {
   "cell_type": "code",
   "execution_count": 2,
   "metadata": {},
   "outputs": [
    {
     "data": {
      "text/plain": [
       "'test_branch'"
      ]
     },
     "execution_count": 2,
     "metadata": {},
     "output_type": "execute_result"
    }
   ],
   "source": [
    "'test_branch'"
   ]
  },
  {
   "cell_type": "code",
   "execution_count": 12,
   "metadata": {},
   "outputs": [],
   "source": [
    "test_hello_world()16:17:45,110 16:21:20,748"
   ]
  },
  {
   "cell_type": "code",
   "execution_count": 1,
   "metadata": {},
   "outputs": [
    {
     "name": "stdout",
     "output_type": "stream",
     "text": [
      "https://nguyenduchuy.pythonanywhere.com/users/check_user\n"
     ]
    },
    {
     "data": {
      "text/plain": [
       "'{\"result\":false}\\n'"
      ]
     },
     "execution_count": 1,
     "metadata": {},
     "output_type": "execute_result"
    }
   ],
   "source": [
    "import requests\n",
    "import json\n",
    "\n",
    "# Base URL for your API\n",
    "base_url = \"https://nguyenduchuy.pythonanywhere.com\" \n",
    "# base_url = 'http://192.168.0.101:8080'\n",
    "\n",
    "url = base_url + '/users/check_user'\n",
    "params ={\"userId\": \"h@g.c\",\n",
    "         \"password\": \"Huy12345!\"}\n",
    "print(url)\n",
    "requests.post(url, json=params).text"
   ]
  }
 ],
 "metadata": {
  "kernelspec": {
   "display_name": "Python 3",
   "language": "python",
   "name": "python3"
  },
  "language_info": {
   "codemirror_mode": {
    "name": "ipython",
    "version": 3
   },
   "file_extension": ".py",
   "mimetype": "text/x-python",
   "name": "python",
   "nbconvert_exporter": "python",
   "pygments_lexer": "ipython3",
   "version": "3.11.3"
  }
 },
 "nbformat": 4,
 "nbformat_minor": 2
}
